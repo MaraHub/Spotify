{
 "cells": [
  {
   "cell_type": "code",
   "execution_count": 1,
   "metadata": {},
   "outputs": [],
   "source": [
    "import credentials\n",
    "import oAuth\n",
    "import SpotifyClient as sc\n",
    "client_id = credentials.client_id\n",
    "client_secret = credentials.client_secret\n",
    "\n",
    "authorization = oAuth.get_token(client_id,client_secret)\n",
    "\n",
    "explore = sc.SpotifyClient(authorization[0])"
   ]
  },
  {
   "cell_type": "code",
   "execution_count": 2,
   "metadata": {},
   "outputs": [
    {
     "name": "stdout",
     "output_type": "stream",
     "text": [
      "https://api.spotify.com/v1/search?query=zeppelin%20II&type=album&limit=50\n"
     ]
    },
    {
     "data": {
      "text/plain": [
       "('Led Zeppelin III (Remaster)', 'Led Zeppelin', '6P5QHz4XtxOmS5EuiGIPut')"
      ]
     },
     "execution_count": 2,
     "metadata": {},
     "output_type": "execute_result"
    }
   ],
   "source": [
    "explore.search('album', 'zeppelin II')"
   ]
  },
  {
   "cell_type": "code",
   "execution_count": 3,
   "metadata": {},
   "outputs": [
    {
     "data": {
      "text/html": [
       "<div>\n",
       "<style scoped>\n",
       "    .dataframe tbody tr th:only-of-type {\n",
       "        vertical-align: middle;\n",
       "    }\n",
       "\n",
       "    .dataframe tbody tr th {\n",
       "        vertical-align: top;\n",
       "    }\n",
       "\n",
       "    .dataframe thead th {\n",
       "        text-align: right;\n",
       "    }\n",
       "</style>\n",
       "<table border=\"1\" class=\"dataframe\">\n",
       "  <thead>\n",
       "    <tr style=\"text-align: right;\">\n",
       "      <th></th>\n",
       "      <th>Track</th>\n",
       "      <th>Track_ID</th>\n",
       "    </tr>\n",
       "  </thead>\n",
       "  <tbody>\n",
       "    <tr>\n",
       "      <th>0</th>\n",
       "      <td>Immigrant Song - Remaster</td>\n",
       "      <td>78lgmZwycJ3nzsdgmPPGNx</td>\n",
       "    </tr>\n",
       "    <tr>\n",
       "      <th>1</th>\n",
       "      <td>Friends - Remaster</td>\n",
       "      <td>7jP44G0vKQLkfJ3x19pqPn</td>\n",
       "    </tr>\n",
       "    <tr>\n",
       "      <th>2</th>\n",
       "      <td>Celebration Day - Remaster</td>\n",
       "      <td>78MXICbE7bD4cuPKFh1EFO</td>\n",
       "    </tr>\n",
       "    <tr>\n",
       "      <th>3</th>\n",
       "      <td>Since I've Been Loving You - Remaster</td>\n",
       "      <td>1SDiiE3v2z89VxC3aVRKHQ</td>\n",
       "    </tr>\n",
       "    <tr>\n",
       "      <th>4</th>\n",
       "      <td>Out on the Tiles - Remaster</td>\n",
       "      <td>6fxcpQMUoX0ofnbIHVnVWN</td>\n",
       "    </tr>\n",
       "    <tr>\n",
       "      <th>5</th>\n",
       "      <td>Gallows Pole - Remaster</td>\n",
       "      <td>4S2QZuPFZ9qeHW2sonMJS1</td>\n",
       "    </tr>\n",
       "    <tr>\n",
       "      <th>6</th>\n",
       "      <td>Tangerine - Remaster</td>\n",
       "      <td>4ywWJqYKOwaVVh9xXARWUS</td>\n",
       "    </tr>\n",
       "    <tr>\n",
       "      <th>7</th>\n",
       "      <td>That's the Way - Remaster</td>\n",
       "      <td>1ZUv3ISx2nFaz0JimVdcoT</td>\n",
       "    </tr>\n",
       "    <tr>\n",
       "      <th>8</th>\n",
       "      <td>Bron-Y-Aur Stomp - Remaster</td>\n",
       "      <td>1dK6cNOMYjEP3QGYOfwP6t</td>\n",
       "    </tr>\n",
       "    <tr>\n",
       "      <th>9</th>\n",
       "      <td>Hats off To (Roy) Harper - Remaster</td>\n",
       "      <td>63jSSgwKQtEdOVRuj85GX7</td>\n",
       "    </tr>\n",
       "  </tbody>\n",
       "</table>\n",
       "</div>"
      ],
      "text/plain": [
       "                                   Track                Track_ID\n",
       "0              Immigrant Song - Remaster  78lgmZwycJ3nzsdgmPPGNx\n",
       "1                     Friends - Remaster  7jP44G0vKQLkfJ3x19pqPn\n",
       "2             Celebration Day - Remaster  78MXICbE7bD4cuPKFh1EFO\n",
       "3  Since I've Been Loving You - Remaster  1SDiiE3v2z89VxC3aVRKHQ\n",
       "4            Out on the Tiles - Remaster  6fxcpQMUoX0ofnbIHVnVWN\n",
       "5                Gallows Pole - Remaster  4S2QZuPFZ9qeHW2sonMJS1\n",
       "6                   Tangerine - Remaster  4ywWJqYKOwaVVh9xXARWUS\n",
       "7              That's the Way - Remaster  1ZUv3ISx2nFaz0JimVdcoT\n",
       "8            Bron-Y-Aur Stomp - Remaster  1dK6cNOMYjEP3QGYOfwP6t\n",
       "9    Hats off To (Roy) Harper - Remaster  63jSSgwKQtEdOVRuj85GX7"
      ]
     },
     "execution_count": 3,
     "metadata": {},
     "output_type": "execute_result"
    }
   ],
   "source": [
    "explore.get_tracks_from_album('6P5QHz4XtxOmS5EuiGIPut')"
   ]
  },
  {
   "cell_type": "code",
   "execution_count": null,
   "metadata": {},
   "outputs": [],
   "source": [
    "explore.get_track_popularity()"
   ]
  }
 ],
 "metadata": {
  "kernelspec": {
   "display_name": "Python 3",
   "language": "python",
   "name": "python3"
  },
  "language_info": {
   "codemirror_mode": {
    "name": "ipython",
    "version": 3
   },
   "file_extension": ".py",
   "mimetype": "text/x-python",
   "name": "python",
   "nbconvert_exporter": "python",
   "pygments_lexer": "ipython3",
   "version": "3.7.1"
  }
 },
 "nbformat": 4,
 "nbformat_minor": 2
}
